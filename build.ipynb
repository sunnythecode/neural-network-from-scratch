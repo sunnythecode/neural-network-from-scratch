{
 "cells": [
  {
   "cell_type": "code",
   "execution_count": 1,
   "metadata": {},
   "outputs": [],
   "source": [
    "from main import neural_net\n",
    "import numpy as np\n",
    "import pandas as pd\n",
    "\n",
    "import math"
   ]
  },
  {
   "cell_type": "code",
   "execution_count": 2,
   "metadata": {},
   "outputs": [],
   "source": [
    "data = pd.read_csv(\"mnist_train_small.csv\")\n",
    "trainPercentage = 0.75\n",
    "testPercentage = 0.25"
   ]
  },
  {
   "cell_type": "code",
   "execution_count": 3,
   "metadata": {},
   "outputs": [],
   "source": [
    "trainXy = data[:math.floor(len(data) * trainPercentage)]\n",
    "testXy = data[math.floor(len(data) * trainPercentage):]\n",
    "trainY = np.array(trainXy[\"6\"])\n",
    "del trainXy[\"6\"]\n",
    "trainX = np.array(trainXy)\n",
    "testY = np.array(testXy[\"6\"])\n",
    "del testXy[\"6\"]\n",
    "testX = np.array(testXy)\n"
   ]
  },
  {
   "cell_type": "code",
   "execution_count": 4,
   "metadata": {},
   "outputs": [],
   "source": [
    "#Normalize the data\n",
    "trainX = trainX / 255.0\n",
    "testX = testX / 255.0"
   ]
  },
  {
   "cell_type": "code",
   "execution_count": 5,
   "metadata": {},
   "outputs": [],
   "source": [
    "model = neural_net([784, 128, 10])\n",
    "# 784, 10, 10, 10\n",
    "# 784, 32, 32, 10"
   ]
  },
  {
   "cell_type": "code",
   "execution_count": 6,
   "metadata": {},
   "outputs": [],
   "source": [
    "tY = []\n",
    "for i in range(0, len(trainY)):\n",
    "    tY.append(np.reshape(np.eye(10)[:, trainY[i]], [-1, 1]))"
   ]
  },
  {
   "cell_type": "code",
   "execution_count": 7,
   "metadata": {},
   "outputs": [],
   "source": [
    "tstY = []\n",
    "for i in range(0, len(testY)):\n",
    "    tstY.append(np.reshape(np.eye(10)[:, testY[i]], [-1, 1]))"
   ]
  },
  {
   "cell_type": "code",
   "execution_count": 8,
   "metadata": {},
   "outputs": [
    {
     "data": {
      "text/plain": [
       "array([[0.],\n",
       "       [0.],\n",
       "       [0.],\n",
       "       [0.],\n",
       "       [0.],\n",
       "       [1.],\n",
       "       [0.],\n",
       "       [0.],\n",
       "       [0.],\n",
       "       [0.]])"
      ]
     },
     "execution_count": 8,
     "metadata": {},
     "output_type": "execute_result"
    }
   ],
   "source": [
    "tY[0]"
   ]
  },
  {
   "cell_type": "code",
   "execution_count": 9,
   "metadata": {},
   "outputs": [],
   "source": [
    "tX = []\n",
    "for i in range(0, len(trainX)):\n",
    "    tX.append(np.reshape(trainX[i], [-1, 1]))"
   ]
  },
  {
   "cell_type": "code",
   "execution_count": 10,
   "metadata": {},
   "outputs": [],
   "source": [
    "tstX = []\n",
    "for i in range(0, len(testX)):\n",
    "    tstX.append(np.reshape(testX[i], [-1, 1]))"
   ]
  },
  {
   "cell_type": "code",
   "execution_count": null,
   "metadata": {},
   "outputs": [],
   "source": [
    "costs = model.train(tX, tY, 150, 0.35) #15000 x 150, 0.01"
   ]
  },
  {
   "cell_type": "code",
   "execution_count": 12,
   "metadata": {},
   "outputs": [
    {
     "name": "stdout",
     "output_type": "stream",
     "text": [
      "[21.8515645984256, 7.26195811239115, 6.10335634127568, 5.1117372161325125, 4.4119090883811, 4.02811214610114, 3.819393649858868, 3.6616822614380853, 3.5202397890163932, 3.3915201292806763, 3.2741017448728575, 3.166732532363987, 3.068302809817816, 2.977834667286891, 2.894469165062933, 2.817452844077251, 2.7461247182448716, 2.679904361092692, 2.61828131398712, 2.560805827707612, 2.5070808457090785, 2.4567550967547604, 2.409517156060176, 2.365090340879698, 2.323228319778897, 2.2837113301400196, 2.246342913477112, 2.2109470918461183, 2.177365920623687, 2.1454573631496423, 2.1150934413082427, 2.0861586232655305, 2.0585484155106197, 2.0321681312737914, 2.006931811504686, 1.9827612780352475, 1.959585301453024, 1.937338868664446, 1.915962537214473, 1.8954018652082987, 1.875606907202021, 1.8565317677342001, 1.838134205288235, 1.8203752804382998, 1.8032190427586676, 1.786632251788606, 1.7705841279598944, 1.7550461299226943, 1.7399917551636235, 1.7253963612046714, 1.7112370050133945, 1.6974922985513172, 1.684142278643085, 1.6711682895730113, 1.6585528770076394, 1.6462796920129967, 1.6343334040806354, 1.6226996222051493, 1.611364823168022, 1.6003162862794775, 1.5895420339167958, 1.579030777271653, 1.5687718667857344, 1.5587552468111208, 1.548971414083351, 1.5394113796398197, 1.5300666338554636, 1.5209291143030932, 1.5119911761759737, 1.5032455650382415, 1.4946853916921194, 1.4863041089731277, 1.4780954903029042, 1.4700536098463264, 1.4621728241350274, 1.454447755032108, 1.446873273925605, 1.439444487048295, 1.4321567218314186, 1.425005514208235, 1.4179865967913483, 1.4110958878539819, 1.4043294810524276, 1.3976836358318334, 1.3911547684629721, 1.3847394436617046, 1.3784343667477648, 1.3722363763021315, 1.3661424372866307, 1.360149634591943, 1.354255166983062, 1.3484563414137485, 1.342750567683921, 1.3371353534160284, 1.331608299328074, 1.3261670947830888, 1.3208095135962337, 1.3155334100820122, 1.3103367153257923, 1.3052174336646025, 1.300173639363659, 1.2952034734758378, 1.2903051408723196, 1.2854769074335897, 1.2807170973905484, 1.2760240908064733, 1.271396321190998, 1.266832273238055, 1.2623304806802265, 1.2578895242524357, 1.2535080297585146, 1.2491846662344552, 1.2449181442027448, 1.2407072140124678, 1.2365506642600854, 1.2324473202865385, 1.2283960427461105, 1.2243957262430059, 1.220445298032198, 1.216543716780474, 1.2126899713848311, 1.2088830798448922, 1.2051220881864424, 1.2014060694334727, 1.1977341226259346, 1.1941053718811725, 1.1905189654963002, 1.1869740750898754, 1.183469894780526, 1.1800056404007973, 1.1765805487444632, 1.1731938768455874, 1.1698449012877559, 1.1665329175420742, 1.1632572393324407, 1.160017198026882, 1.156812142053602, 1.1536414363405996, 1.1505044617778142, 1.1474006147007234, 1.144329306394214, 1.1412899626161237, 1.138282023139285, 1.1353049413112883, 1.1323581836312826, 1.129441229342878, 1.1265535700425728, 1.1236947093029381, 1.1208641623098679, 1.1180614555134454]\n"
     ]
    },
    {
     "data": {
      "image/png": "[encoded data removed]",
      "text/plain": [
       "<Figure size 640x480 with 1 Axes>"
      ]
     },
     "metadata": {},
     "output_type": "display_data"
    }
   ],
   "source": [
    "import matplotlib.pyplot as plt\n",
    "plt.plot(costs)\n",
    "print(costs)"
   ]
  },
  {
   "cell_type": "code",
   "execution_count": 20,
   "metadata": {},
   "outputs": [
    {
     "name": "stdout",
     "output_type": "stream",
     "text": [
      "Accuracy:  0.8194\n",
      "4097\n",
      "5000\n"
     ]
    }
   ],
   "source": [
    "#Evaluate Model\n",
    "correct = 0\n",
    "for i in range(0, len(tstX)):\n",
    "    prediction = np.argmax(model.forward_prop(tstX[i])[-1][0])\n",
    "    actual = np.argmax(tstY[i])\n",
    "    if int(prediction) == int(actual):\n",
    "        correct += 1\n",
    "\n",
    "print(\"Accuracy: \", correct / len(tstX))\n",
    "print(correct)\n",
    "print(len(tstX))\n"
   ]
  },
  {
   "cell_type": "code",
   "execution_count": 29,
   "metadata": {},
   "outputs": [
    {
     "name": "stdout",
     "output_type": "stream",
     "text": [
      "Accuracy:  0.8245216347756517\n",
      "12367\n",
      "14999\n"
     ]
    }
   ],
   "source": [
    "#Evaluate Model\n",
    "correct = 0\n",
    "for i in range(0, len(tX)):\n",
    "    prediction = np.argmax(model.forward_prop(tX[i])[-1][0])\n",
    "    actual = np.argmax(tY[i])\n",
    "    if int(prediction) == int(actual):\n",
    "        correct += 1\n",
    "\n",
    "print(\"Accuracy: \", correct / len(tX))\n",
    "print(correct)\n",
    "print(len(tX))"
   ]
  },
  {
   "cell_type": "code",
   "execution_count": 30,
   "metadata": {},
   "outputs": [
    {
     "data": {
      "text/plain": [
       "5"
      ]
     },
     "execution_count": 30,
     "metadata": {},
     "output_type": "execute_result"
    }
   ],
   "source": [
    "np.argmax(model.forward_prop(tstX[200])[-1][0])"
   ]
  }
 ],
 "metadata": {
  "kernelspec": {
   "display_name": "Python 3",
   "language": "python",
   "name": "python3"
  },
  "language_info": {
   "codemirror_mode": {
    "name": "ipython",
    "version": 3
   },
   "file_extension": ".py",
   "mimetype": "text/x-python",
   "name": "python",
   "nbconvert_exporter": "python",
   "pygments_lexer": "ipython3",
   "version": "3.11.2"
  }
 },
 "nbformat": 4,
 "nbformat_minor": 2
}
